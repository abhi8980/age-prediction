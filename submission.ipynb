{
 "cells": [
  {
   "cell_type": "code",
   "execution_count": 5,
   "id": "15b53db9",
   "metadata": {},
   "outputs": [
    {
     "name": "stdout",
     "output_type": "stream",
     "text": [
      "Sample predictions:\n",
      "   age_group\n",
      "0          0\n",
      "1          0\n",
      "2          0\n",
      "3          0\n",
      "4          0\n",
      "\n",
      "✅ Submission file saved as 'Submission.csv'\n"
     ]
    }
   ],
   "source": [
    "# 📦 Import Required Libraries\n",
    "import pandas as pd\n",
    "from sklearn.ensemble import RandomForestClassifier\n",
    "from sklearn.impute import SimpleImputer\n",
    "import numpy as np\n",
    "\n",
    "# 📂 Load the Data\n",
    "train_df = pd.read_csv(\"Train_Data.csv\")\n",
    "test_df = pd.read_csv(\"Test_Data.csv\")\n",
    "sample_submission_df = pd.read_csv(\"Sample_Submission.csv\")\n",
    "\n",
    "# 🧹 Clean Data & Encode Target\n",
    "train_df = train_df.dropna(subset=['age_group'])  # Drop rows without target\n",
    "train_df['age_group'] = train_df['age_group'].map({'Adult': 0, 'Senior': 1})  # Encode target\n",
    "\n",
    "# 🎯 Split features and labels\n",
    "X = train_df.drop(columns=['age_group'])\n",
    "y = train_df['age_group']\n",
    "\n",
    "# 🔄 Combine for uniform preprocessing\n",
    "combined = pd.concat([X, test_df], axis=0)\n",
    "\n",
    "# 🧼 Handle Missing Values\n",
    "imputer = SimpleImputer(strategy='mean')\n",
    "combined_imputed = imputer.fit_transform(combined)\n",
    "\n",
    "# 🔄 Split again after imputation\n",
    "X_train_final = combined_imputed[:len(X)]\n",
    "X_test_final = combined_imputed[len(X):]\n",
    "\n",
    "# 🤖 Train the Model\n",
    "model = RandomForestClassifier(random_state=42)\n",
    "model.fit(X_train_final, y)\n",
    "\n",
    "# 🔮 Predict on Test Set\n",
    "predictions = model.predict(X_test_final)\n",
    "\n",
    "# 📤 Create Submission File\n",
    "submission_df = pd.DataFrame({'age_group': predictions.astype(int)})\n",
    "submission_df.to_csv(\"Submission.csv\", index=False)\n",
    "\n",
    "# ✅ Show preview of submission\n",
    "print(\"Sample predictions:\")\n",
    "print(submission_df.head())\n",
    "print(\"\\n✅ Submission file saved as 'Submission.csv'\")"
   ]
  }
 ],
 "metadata": {
  "kernelspec": {
   "display_name": "Python 3",
   "language": "python",
   "name": "python3"
  },
  "language_info": {
   "codemirror_mode": {
    "name": "ipython",
    "version": 3
   },
   "file_extension": ".py",
   "mimetype": "text/x-python",
   "name": "python",
   "nbconvert_exporter": "python",
   "pygments_lexer": "ipython3",
   "version": "3.13.3"
  }
 },
 "nbformat": 4,
 "nbformat_minor": 5
}
